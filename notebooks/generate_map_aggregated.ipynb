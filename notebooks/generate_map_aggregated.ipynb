{
 "cells": [
  {
   "cell_type": "markdown",
   "metadata": {},
   "source": [
    "# Generate a map with the aggregated rainfall station data"
   ]
  },
  {
   "cell_type": "code",
   "execution_count": null,
   "metadata": {},
   "outputs": [],
   "source": [
    "# importing required libraries\n",
    "import numpy as np\n",
    "import pandas as pd\n",
    "import json\n",
    "import requests\n",
    "from datetime import datetime, date\n",
    "import folium\n",
    "from folium.plugins import MarkerCluster"
   ]
  },
  {
   "cell_type": "code",
   "execution_count": null,
   "metadata": {},
   "outputs": [],
   "source": [
    "# list present working directory\n",
    "#os.getcwd()"
   ]
  },
  {
   "cell_type": "code",
   "execution_count": null,
   "metadata": {},
   "outputs": [],
   "source": [
    "# printing current date and time\n",
    "print('Date and time: ' + str(datetime.today().replace(microsecond=0)))"
   ]
  },
  {
   "cell_type": "code",
   "execution_count": null,
   "metadata": {},
   "outputs": [],
   "source": [
    "# loading data\n",
    "rainfall_data_aggregated = pd.read_csv(f'../data/rainfall_data_aggregated_{date.today()}.csv')\n",
    "print(rainfall_data_aggregated.shape)"
   ]
  },
  {
   "cell_type": "code",
   "execution_count": null,
   "metadata": {},
   "outputs": [],
   "source": [
    "# dropping NaN rows on latitude and longitude before generating map\n",
    "rainfall_data_aggregated = rainfall_data_aggregated.dropna(subset=['station_latitude','station_longitude'])"
   ]
  },
  {
   "cell_type": "code",
   "execution_count": null,
   "metadata": {},
   "outputs": [],
   "source": [
    "# code to generate an interactive map with the rainfall data\n",
    "\n",
    "# initializing the map\n",
    "rainfall_map_aggregated = folium.Map(location=[rainfall_data_aggregated['station_latitude'].mean(),\n",
    "                                           rainfall_data_aggregated['station_longitude'].mean()], \n",
    "                                 zoom_start=6, control_scale=True)\n",
    "\n",
    "# adding marker clusters for visual clutter reduction\n",
    "marker_cluster = MarkerCluster().add_to(rainfall_map_aggregated)\n",
    "\n",
    "# looping through each row in the data and appending to map\n",
    "for i,row in rainfall_data_aggregated.iterrows():\n",
    "    # setting up the content of the popup\n",
    "    iframe = folium.IFrame(f'<b> Station details: </b> <br> Type of station: {str(row[\"station_type\"])} <br> Station ID: {str(row[\"station_id\"])} <br> Latitude: {str(row[\"station_latitude\"])} , Longitude {str(row[\"station_longitude\"])} <br> Grid reference: {str(row[\"station_grid_reference\"])} <br> <br> <b> Rainfall measurement details: </b> <br> Date: {str(row[\"date\"])} <br> Time: {str(row[\"time\"])} <br> TBR measurement: {str(row[\"reading_value\"])} mm <br> Value type: {str(row[\"reading_value_type\"])}')\n",
    "    \n",
    "    # initialise the popup and specifying dimensions\n",
    "    popup = folium.Popup(iframe, min_width=350, max_width=350)\n",
    "    \n",
    "    # adding each row/entry to the map\n",
    "    folium.Marker(location=[row['station_latitude'], row['station_longitude']],\n",
    "                  popup = popup).add_to(marker_cluster)"
   ]
  },
  {
   "cell_type": "code",
   "execution_count": null,
   "metadata": {},
   "outputs": [],
   "source": [
    "# display the map\n",
    "rainfall_map_aggregated"
   ]
  },
  {
   "cell_type": "code",
   "execution_count": null,
   "metadata": {},
   "outputs": [],
   "source": [
    "# save the map\n",
    "rainfall_map_aggregated.save(f'../reports/maps/rainfall_map_aggregated_{date.today()}.html')"
   ]
  }
 ],
 "metadata": {
  "kernelspec": {
   "display_name": "Python 3",
   "language": "python",
   "name": "python3"
  },
  "language_info": {
   "codemirror_mode": {
    "name": "ipython",
    "version": 3
   },
   "file_extension": ".py",
   "mimetype": "text/x-python",
   "name": "python",
   "nbconvert_exporter": "python",
   "pygments_lexer": "ipython3",
   "version": "3.8.10"
  }
 },
 "nbformat": 4,
 "nbformat_minor": 4
}
